{
 "cells": [
  {
   "cell_type": "markdown",
   "id": "859347eb-0b35-4ed7-8bff-b666c28bf88e",
   "metadata": {},
   "source": [
    "#### IMPORTING NECESSARY LIBARIES"
   ]
  },
  {
   "cell_type": "code",
   "execution_count": 1,
   "id": "3a4a9beb-3d1e-4cbe-b3de-462dd804839d",
   "metadata": {},
   "outputs": [],
   "source": [
    "import numpy as np\n",
    "import pandas as pd\n",
    "import seaborn as sns\n",
    "import matplotlib.pyplot as plt"
   ]
  },
  {
   "cell_type": "code",
   "execution_count": 2,
   "id": "625b2e5c-72b3-4bab-97ee-63adc803d628",
   "metadata": {},
   "outputs": [],
   "source": [
    "pg_df = pd.read_csv('adi_sale.csv')"
   ]
  },
  {
   "cell_type": "code",
   "execution_count": 3,
   "id": "a4636352-7707-4369-9a7a-1ffd22efdcf6",
   "metadata": {},
   "outputs": [
    {
     "data": {
      "text/html": [
       "<div>\n",
       "<style scoped>\n",
       "    .dataframe tbody tr th:only-of-type {\n",
       "        vertical-align: middle;\n",
       "    }\n",
       "\n",
       "    .dataframe tbody tr th {\n",
       "        vertical-align: top;\n",
       "    }\n",
       "\n",
       "    .dataframe thead th {\n",
       "        text-align: right;\n",
       "    }\n",
       "</style>\n",
       "<table border=\"1\" class=\"dataframe\">\n",
       "  <thead>\n",
       "    <tr style=\"text-align: right;\">\n",
       "      <th></th>\n",
       "      <th>retailer</th>\n",
       "      <th>retailer_id</th>\n",
       "      <th>invoice_date</th>\n",
       "      <th>region</th>\n",
       "      <th>state</th>\n",
       "      <th>city</th>\n",
       "      <th>product</th>\n",
       "      <th>price_per_unit</th>\n",
       "      <th>units_sold</th>\n",
       "      <th>total_sales</th>\n",
       "      <th>operating_profit</th>\n",
       "      <th>operating_margin</th>\n",
       "      <th>sales_method</th>\n",
       "    </tr>\n",
       "  </thead>\n",
       "  <tbody>\n",
       "    <tr>\n",
       "      <th>0</th>\n",
       "      <td>Foot Locker</td>\n",
       "      <td>1185732</td>\n",
       "      <td>1/1/2020</td>\n",
       "      <td>Northeast</td>\n",
       "      <td>New York</td>\n",
       "      <td>New York</td>\n",
       "      <td>Men's Street Footwear</td>\n",
       "      <td>50</td>\n",
       "      <td>1200</td>\n",
       "      <td>600000</td>\n",
       "      <td>300000.0</td>\n",
       "      <td>0.50</td>\n",
       "      <td>In-store</td>\n",
       "    </tr>\n",
       "    <tr>\n",
       "      <th>1</th>\n",
       "      <td>Foot Locker</td>\n",
       "      <td>1185732</td>\n",
       "      <td>1/2/2020</td>\n",
       "      <td>Northeast</td>\n",
       "      <td>New York</td>\n",
       "      <td>New York</td>\n",
       "      <td>Men's Athletic Footwear</td>\n",
       "      <td>50</td>\n",
       "      <td>1000</td>\n",
       "      <td>500000</td>\n",
       "      <td>150000.0</td>\n",
       "      <td>0.30</td>\n",
       "      <td>In-store</td>\n",
       "    </tr>\n",
       "    <tr>\n",
       "      <th>2</th>\n",
       "      <td>Foot Locker</td>\n",
       "      <td>1185732</td>\n",
       "      <td>1/3/2020</td>\n",
       "      <td>Northeast</td>\n",
       "      <td>New York</td>\n",
       "      <td>New York</td>\n",
       "      <td>Women's Street Footwear</td>\n",
       "      <td>40</td>\n",
       "      <td>1000</td>\n",
       "      <td>400000</td>\n",
       "      <td>140000.0</td>\n",
       "      <td>0.35</td>\n",
       "      <td>In-store</td>\n",
       "    </tr>\n",
       "  </tbody>\n",
       "</table>\n",
       "</div>"
      ],
      "text/plain": [
       "      retailer  retailer_id invoice_date     region     state      city  \\\n",
       "0  Foot Locker      1185732     1/1/2020  Northeast  New York  New York   \n",
       "1  Foot Locker      1185732     1/2/2020  Northeast  New York  New York   \n",
       "2  Foot Locker      1185732     1/3/2020  Northeast  New York  New York   \n",
       "\n",
       "                   product  price_per_unit  units_sold  total_sales  \\\n",
       "0    Men's Street Footwear              50        1200       600000   \n",
       "1  Men's Athletic Footwear              50        1000       500000   \n",
       "2  Women's Street Footwear              40        1000       400000   \n",
       "\n",
       "   operating_profit  operating_margin sales_method  \n",
       "0          300000.0              0.50     In-store  \n",
       "1          150000.0              0.30     In-store  \n",
       "2          140000.0              0.35     In-store  "
      ]
     },
     "execution_count": 3,
     "metadata": {},
     "output_type": "execute_result"
    }
   ],
   "source": [
    "pg_df.head(3)"
   ]
  },
  {
   "cell_type": "code",
   "execution_count": 4,
   "id": "4d7551b1-fab6-4e9c-bd74-49746bb56336",
   "metadata": {},
   "outputs": [
    {
     "data": {
      "text/plain": [
       "(9648, 13)"
      ]
     },
     "execution_count": 4,
     "metadata": {},
     "output_type": "execute_result"
    }
   ],
   "source": [
    "pg_df.shape"
   ]
  },
  {
   "cell_type": "code",
   "execution_count": 5,
   "id": "79aa4da1-7486-4d99-a3ea-5acc2f8f0be3",
   "metadata": {},
   "outputs": [
    {
     "name": "stdout",
     "output_type": "stream",
     "text": [
      "<class 'pandas.core.frame.DataFrame'>\n",
      "RangeIndex: 9648 entries, 0 to 9647\n",
      "Data columns (total 13 columns):\n",
      " #   Column            Non-Null Count  Dtype  \n",
      "---  ------            --------------  -----  \n",
      " 0   retailer          9648 non-null   object \n",
      " 1   retailer_id       9648 non-null   int64  \n",
      " 2   invoice_date      9648 non-null   object \n",
      " 3   region            9648 non-null   object \n",
      " 4   state             9648 non-null   object \n",
      " 5   city              9648 non-null   object \n",
      " 6   product           9648 non-null   object \n",
      " 7   price_per_unit    9648 non-null   int64  \n",
      " 8   units_sold        9648 non-null   int64  \n",
      " 9   total_sales       9648 non-null   int64  \n",
      " 10  operating_profit  9648 non-null   float64\n",
      " 11  operating_margin  9648 non-null   float64\n",
      " 12  sales_method      9648 non-null   object \n",
      "dtypes: float64(2), int64(4), object(7)\n",
      "memory usage: 980.0+ KB\n"
     ]
    }
   ],
   "source": [
    "pg_df.info()"
   ]
  },
  {
   "cell_type": "code",
   "execution_count": 6,
   "id": "3aa4ee7a-8e04-473f-844c-37e6169f1f35",
   "metadata": {},
   "outputs": [
    {
     "data": {
      "text/html": [
       "<div>\n",
       "<style scoped>\n",
       "    .dataframe tbody tr th:only-of-type {\n",
       "        vertical-align: middle;\n",
       "    }\n",
       "\n",
       "    .dataframe tbody tr th {\n",
       "        vertical-align: top;\n",
       "    }\n",
       "\n",
       "    .dataframe thead th {\n",
       "        text-align: right;\n",
       "    }\n",
       "</style>\n",
       "<table border=\"1\" class=\"dataframe\">\n",
       "  <thead>\n",
       "    <tr style=\"text-align: right;\">\n",
       "      <th></th>\n",
       "      <th>retailer</th>\n",
       "      <th>retailer_id</th>\n",
       "      <th>invoice_date</th>\n",
       "      <th>region</th>\n",
       "      <th>state</th>\n",
       "      <th>city</th>\n",
       "      <th>product</th>\n",
       "      <th>price_per_unit</th>\n",
       "      <th>units_sold</th>\n",
       "      <th>total_sales</th>\n",
       "      <th>operating_profit</th>\n",
       "      <th>operating_margin</th>\n",
       "      <th>sales_method</th>\n",
       "    </tr>\n",
       "  </thead>\n",
       "  <tbody>\n",
       "    <tr>\n",
       "      <th>0</th>\n",
       "      <td>Foot Locker</td>\n",
       "      <td>1185732</td>\n",
       "      <td>1/1/2020</td>\n",
       "      <td>Northeast</td>\n",
       "      <td>New York</td>\n",
       "      <td>New York</td>\n",
       "      <td>Men's Street Footwear</td>\n",
       "      <td>50</td>\n",
       "      <td>1200</td>\n",
       "      <td>600000</td>\n",
       "      <td>300000.0</td>\n",
       "      <td>0.50</td>\n",
       "      <td>In-store</td>\n",
       "    </tr>\n",
       "    <tr>\n",
       "      <th>1</th>\n",
       "      <td>Foot Locker</td>\n",
       "      <td>1185732</td>\n",
       "      <td>1/2/2020</td>\n",
       "      <td>Northeast</td>\n",
       "      <td>New York</td>\n",
       "      <td>New York</td>\n",
       "      <td>Men's Athletic Footwear</td>\n",
       "      <td>50</td>\n",
       "      <td>1000</td>\n",
       "      <td>500000</td>\n",
       "      <td>150000.0</td>\n",
       "      <td>0.30</td>\n",
       "      <td>In-store</td>\n",
       "    </tr>\n",
       "    <tr>\n",
       "      <th>2</th>\n",
       "      <td>Foot Locker</td>\n",
       "      <td>1185732</td>\n",
       "      <td>1/3/2020</td>\n",
       "      <td>Northeast</td>\n",
       "      <td>New York</td>\n",
       "      <td>New York</td>\n",
       "      <td>Women's Street Footwear</td>\n",
       "      <td>40</td>\n",
       "      <td>1000</td>\n",
       "      <td>400000</td>\n",
       "      <td>140000.0</td>\n",
       "      <td>0.35</td>\n",
       "      <td>In-store</td>\n",
       "    </tr>\n",
       "  </tbody>\n",
       "</table>\n",
       "</div>"
      ],
      "text/plain": [
       "      retailer  retailer_id invoice_date     region     state      city  \\\n",
       "0  Foot Locker      1185732     1/1/2020  Northeast  New York  New York   \n",
       "1  Foot Locker      1185732     1/2/2020  Northeast  New York  New York   \n",
       "2  Foot Locker      1185732     1/3/2020  Northeast  New York  New York   \n",
       "\n",
       "                   product  price_per_unit  units_sold  total_sales  \\\n",
       "0    Men's Street Footwear              50        1200       600000   \n",
       "1  Men's Athletic Footwear              50        1000       500000   \n",
       "2  Women's Street Footwear              40        1000       400000   \n",
       "\n",
       "   operating_profit  operating_margin sales_method  \n",
       "0          300000.0              0.50     In-store  \n",
       "1          150000.0              0.30     In-store  \n",
       "2          140000.0              0.35     In-store  "
      ]
     },
     "execution_count": 6,
     "metadata": {},
     "output_type": "execute_result"
    }
   ],
   "source": [
    "pg_df.head(3)"
   ]
  },
  {
   "cell_type": "code",
   "execution_count": null,
   "id": "2fbb9ab6-8a36-49a8-ad82-5bcbb61f50bd",
   "metadata": {},
   "outputs": [],
   "source": [
    "pg_df.shape"
   ]
  },
  {
   "cell_type": "code",
   "execution_count": 7,
   "id": "eb24e3c0-98f8-44c9-a717-08cfe08d6858",
   "metadata": {},
   "outputs": [],
   "source": [
    "pg_df['invoice_date'] = pd.to_datetime(pg_df['invoice_date'])"
   ]
  },
  {
   "cell_type": "code",
   "execution_count": 8,
   "id": "3c408951-26c0-4568-b091-90392d9d4c15",
   "metadata": {},
   "outputs": [
    {
     "name": "stdout",
     "output_type": "stream",
     "text": [
      "<class 'pandas.core.frame.DataFrame'>\n",
      "RangeIndex: 9648 entries, 0 to 9647\n",
      "Data columns (total 13 columns):\n",
      " #   Column            Non-Null Count  Dtype         \n",
      "---  ------            --------------  -----         \n",
      " 0   retailer          9648 non-null   object        \n",
      " 1   retailer_id       9648 non-null   int64         \n",
      " 2   invoice_date      9648 non-null   datetime64[ns]\n",
      " 3   region            9648 non-null   object        \n",
      " 4   state             9648 non-null   object        \n",
      " 5   city              9648 non-null   object        \n",
      " 6   product           9648 non-null   object        \n",
      " 7   price_per_unit    9648 non-null   int64         \n",
      " 8   units_sold        9648 non-null   int64         \n",
      " 9   total_sales       9648 non-null   int64         \n",
      " 10  operating_profit  9648 non-null   float64       \n",
      " 11  operating_margin  9648 non-null   float64       \n",
      " 12  sales_method      9648 non-null   object        \n",
      "dtypes: datetime64[ns](1), float64(2), int64(4), object(6)\n",
      "memory usage: 980.0+ KB\n"
     ]
    }
   ],
   "source": [
    "pg_df.info()"
   ]
  },
  {
   "cell_type": "code",
   "execution_count": 9,
   "id": "9e0670f0-6060-4230-ba9e-82a53725c508",
   "metadata": {},
   "outputs": [],
   "source": [
    "pg_df['year'] = pg_df['invoice_date'].dt.year\n",
    "pg_df['month'] = pg_df['invoice_date'].dt.month\n",
    "\n"
   ]
  },
  {
   "cell_type": "code",
   "execution_count": 10,
   "id": "9f4377da-2bc4-4363-953b-a47ec4b2fe63",
   "metadata": {},
   "outputs": [
    {
     "data": {
      "text/html": [
       "<div>\n",
       "<style scoped>\n",
       "    .dataframe tbody tr th:only-of-type {\n",
       "        vertical-align: middle;\n",
       "    }\n",
       "\n",
       "    .dataframe tbody tr th {\n",
       "        vertical-align: top;\n",
       "    }\n",
       "\n",
       "    .dataframe thead th {\n",
       "        text-align: right;\n",
       "    }\n",
       "</style>\n",
       "<table border=\"1\" class=\"dataframe\">\n",
       "  <thead>\n",
       "    <tr style=\"text-align: right;\">\n",
       "      <th></th>\n",
       "      <th>retailer</th>\n",
       "      <th>retailer_id</th>\n",
       "      <th>invoice_date</th>\n",
       "      <th>region</th>\n",
       "      <th>state</th>\n",
       "      <th>city</th>\n",
       "      <th>product</th>\n",
       "      <th>price_per_unit</th>\n",
       "      <th>units_sold</th>\n",
       "      <th>total_sales</th>\n",
       "      <th>operating_profit</th>\n",
       "      <th>operating_margin</th>\n",
       "      <th>sales_method</th>\n",
       "      <th>year</th>\n",
       "      <th>month</th>\n",
       "    </tr>\n",
       "  </thead>\n",
       "  <tbody>\n",
       "    <tr>\n",
       "      <th>0</th>\n",
       "      <td>Foot Locker</td>\n",
       "      <td>1185732</td>\n",
       "      <td>2020-01-01</td>\n",
       "      <td>Northeast</td>\n",
       "      <td>New York</td>\n",
       "      <td>New York</td>\n",
       "      <td>Men's Street Footwear</td>\n",
       "      <td>50</td>\n",
       "      <td>1200</td>\n",
       "      <td>600000</td>\n",
       "      <td>300000.0</td>\n",
       "      <td>0.50</td>\n",
       "      <td>In-store</td>\n",
       "      <td>2020</td>\n",
       "      <td>1</td>\n",
       "    </tr>\n",
       "    <tr>\n",
       "      <th>1</th>\n",
       "      <td>Foot Locker</td>\n",
       "      <td>1185732</td>\n",
       "      <td>2020-01-02</td>\n",
       "      <td>Northeast</td>\n",
       "      <td>New York</td>\n",
       "      <td>New York</td>\n",
       "      <td>Men's Athletic Footwear</td>\n",
       "      <td>50</td>\n",
       "      <td>1000</td>\n",
       "      <td>500000</td>\n",
       "      <td>150000.0</td>\n",
       "      <td>0.30</td>\n",
       "      <td>In-store</td>\n",
       "      <td>2020</td>\n",
       "      <td>1</td>\n",
       "    </tr>\n",
       "    <tr>\n",
       "      <th>2</th>\n",
       "      <td>Foot Locker</td>\n",
       "      <td>1185732</td>\n",
       "      <td>2020-01-03</td>\n",
       "      <td>Northeast</td>\n",
       "      <td>New York</td>\n",
       "      <td>New York</td>\n",
       "      <td>Women's Street Footwear</td>\n",
       "      <td>40</td>\n",
       "      <td>1000</td>\n",
       "      <td>400000</td>\n",
       "      <td>140000.0</td>\n",
       "      <td>0.35</td>\n",
       "      <td>In-store</td>\n",
       "      <td>2020</td>\n",
       "      <td>1</td>\n",
       "    </tr>\n",
       "  </tbody>\n",
       "</table>\n",
       "</div>"
      ],
      "text/plain": [
       "      retailer  retailer_id invoice_date     region     state      city  \\\n",
       "0  Foot Locker      1185732   2020-01-01  Northeast  New York  New York   \n",
       "1  Foot Locker      1185732   2020-01-02  Northeast  New York  New York   \n",
       "2  Foot Locker      1185732   2020-01-03  Northeast  New York  New York   \n",
       "\n",
       "                   product  price_per_unit  units_sold  total_sales  \\\n",
       "0    Men's Street Footwear              50        1200       600000   \n",
       "1  Men's Athletic Footwear              50        1000       500000   \n",
       "2  Women's Street Footwear              40        1000       400000   \n",
       "\n",
       "   operating_profit  operating_margin sales_method  year  month  \n",
       "0          300000.0              0.50     In-store  2020      1  \n",
       "1          150000.0              0.30     In-store  2020      1  \n",
       "2          140000.0              0.35     In-store  2020      1  "
      ]
     },
     "execution_count": 10,
     "metadata": {},
     "output_type": "execute_result"
    }
   ],
   "source": [
    "pg_df.head(3)"
   ]
  },
  {
   "cell_type": "code",
   "execution_count": 11,
   "id": "87c1d702-f50c-44e0-90b0-59dd3ce07740",
   "metadata": {},
   "outputs": [],
   "source": [
    "pg_df['monthname'] = pg_df['invoice_date'].dt.strftime('%b')"
   ]
  },
  {
   "cell_type": "code",
   "execution_count": 12,
   "id": "3bb424d1-8bb3-4024-8b9a-db890ba200bd",
   "metadata": {},
   "outputs": [
    {
     "data": {
      "text/html": [
       "<div>\n",
       "<style scoped>\n",
       "    .dataframe tbody tr th:only-of-type {\n",
       "        vertical-align: middle;\n",
       "    }\n",
       "\n",
       "    .dataframe tbody tr th {\n",
       "        vertical-align: top;\n",
       "    }\n",
       "\n",
       "    .dataframe thead th {\n",
       "        text-align: right;\n",
       "    }\n",
       "</style>\n",
       "<table border=\"1\" class=\"dataframe\">\n",
       "  <thead>\n",
       "    <tr style=\"text-align: right;\">\n",
       "      <th></th>\n",
       "      <th>retailer</th>\n",
       "      <th>retailer_id</th>\n",
       "      <th>invoice_date</th>\n",
       "      <th>region</th>\n",
       "      <th>state</th>\n",
       "      <th>city</th>\n",
       "      <th>product</th>\n",
       "      <th>price_per_unit</th>\n",
       "      <th>units_sold</th>\n",
       "      <th>total_sales</th>\n",
       "      <th>operating_profit</th>\n",
       "      <th>operating_margin</th>\n",
       "      <th>sales_method</th>\n",
       "      <th>year</th>\n",
       "      <th>month</th>\n",
       "      <th>monthname</th>\n",
       "    </tr>\n",
       "  </thead>\n",
       "  <tbody>\n",
       "    <tr>\n",
       "      <th>0</th>\n",
       "      <td>Foot Locker</td>\n",
       "      <td>1185732</td>\n",
       "      <td>2020-01-01</td>\n",
       "      <td>Northeast</td>\n",
       "      <td>New York</td>\n",
       "      <td>New York</td>\n",
       "      <td>Men's Street Footwear</td>\n",
       "      <td>50</td>\n",
       "      <td>1200</td>\n",
       "      <td>600000</td>\n",
       "      <td>300000.0</td>\n",
       "      <td>0.5</td>\n",
       "      <td>In-store</td>\n",
       "      <td>2020</td>\n",
       "      <td>1</td>\n",
       "      <td>Jan</td>\n",
       "    </tr>\n",
       "    <tr>\n",
       "      <th>1</th>\n",
       "      <td>Foot Locker</td>\n",
       "      <td>1185732</td>\n",
       "      <td>2020-01-02</td>\n",
       "      <td>Northeast</td>\n",
       "      <td>New York</td>\n",
       "      <td>New York</td>\n",
       "      <td>Men's Athletic Footwear</td>\n",
       "      <td>50</td>\n",
       "      <td>1000</td>\n",
       "      <td>500000</td>\n",
       "      <td>150000.0</td>\n",
       "      <td>0.3</td>\n",
       "      <td>In-store</td>\n",
       "      <td>2020</td>\n",
       "      <td>1</td>\n",
       "      <td>Jan</td>\n",
       "    </tr>\n",
       "  </tbody>\n",
       "</table>\n",
       "</div>"
      ],
      "text/plain": [
       "      retailer  retailer_id invoice_date     region     state      city  \\\n",
       "0  Foot Locker      1185732   2020-01-01  Northeast  New York  New York   \n",
       "1  Foot Locker      1185732   2020-01-02  Northeast  New York  New York   \n",
       "\n",
       "                   product  price_per_unit  units_sold  total_sales  \\\n",
       "0    Men's Street Footwear              50        1200       600000   \n",
       "1  Men's Athletic Footwear              50        1000       500000   \n",
       "\n",
       "   operating_profit  operating_margin sales_method  year  month monthname  \n",
       "0          300000.0               0.5     In-store  2020      1       Jan  \n",
       "1          150000.0               0.3     In-store  2020      1       Jan  "
      ]
     },
     "execution_count": 12,
     "metadata": {},
     "output_type": "execute_result"
    }
   ],
   "source": [
    "pg_df.head(2)"
   ]
  },
  {
   "cell_type": "code",
   "execution_count": 13,
   "id": "f6c9a7f5-d745-488e-afea-0b6ac00e6e76",
   "metadata": {},
   "outputs": [],
   "source": [
    "pg_df['days'] = pg_df['invoice_date'].dt.day_name()"
   ]
  },
  {
   "cell_type": "code",
   "execution_count": 14,
   "id": "79db6cfd-8b1d-4661-948e-57f03fa8f273",
   "metadata": {},
   "outputs": [
    {
     "data": {
      "text/html": [
       "<div>\n",
       "<style scoped>\n",
       "    .dataframe tbody tr th:only-of-type {\n",
       "        vertical-align: middle;\n",
       "    }\n",
       "\n",
       "    .dataframe tbody tr th {\n",
       "        vertical-align: top;\n",
       "    }\n",
       "\n",
       "    .dataframe thead th {\n",
       "        text-align: right;\n",
       "    }\n",
       "</style>\n",
       "<table border=\"1\" class=\"dataframe\">\n",
       "  <thead>\n",
       "    <tr style=\"text-align: right;\">\n",
       "      <th></th>\n",
       "      <th>retailer</th>\n",
       "      <th>retailer_id</th>\n",
       "      <th>invoice_date</th>\n",
       "      <th>region</th>\n",
       "      <th>state</th>\n",
       "      <th>city</th>\n",
       "      <th>product</th>\n",
       "      <th>price_per_unit</th>\n",
       "      <th>units_sold</th>\n",
       "      <th>total_sales</th>\n",
       "      <th>operating_profit</th>\n",
       "      <th>operating_margin</th>\n",
       "      <th>sales_method</th>\n",
       "      <th>year</th>\n",
       "      <th>month</th>\n",
       "      <th>monthname</th>\n",
       "      <th>days</th>\n",
       "    </tr>\n",
       "  </thead>\n",
       "  <tbody>\n",
       "    <tr>\n",
       "      <th>0</th>\n",
       "      <td>Foot Locker</td>\n",
       "      <td>1185732</td>\n",
       "      <td>2020-01-01</td>\n",
       "      <td>Northeast</td>\n",
       "      <td>New York</td>\n",
       "      <td>New York</td>\n",
       "      <td>Men's Street Footwear</td>\n",
       "      <td>50</td>\n",
       "      <td>1200</td>\n",
       "      <td>600000</td>\n",
       "      <td>300000.0</td>\n",
       "      <td>0.5</td>\n",
       "      <td>In-store</td>\n",
       "      <td>2020</td>\n",
       "      <td>1</td>\n",
       "      <td>Jan</td>\n",
       "      <td>Wednesday</td>\n",
       "    </tr>\n",
       "    <tr>\n",
       "      <th>1</th>\n",
       "      <td>Foot Locker</td>\n",
       "      <td>1185732</td>\n",
       "      <td>2020-01-02</td>\n",
       "      <td>Northeast</td>\n",
       "      <td>New York</td>\n",
       "      <td>New York</td>\n",
       "      <td>Men's Athletic Footwear</td>\n",
       "      <td>50</td>\n",
       "      <td>1000</td>\n",
       "      <td>500000</td>\n",
       "      <td>150000.0</td>\n",
       "      <td>0.3</td>\n",
       "      <td>In-store</td>\n",
       "      <td>2020</td>\n",
       "      <td>1</td>\n",
       "      <td>Jan</td>\n",
       "      <td>Thursday</td>\n",
       "    </tr>\n",
       "  </tbody>\n",
       "</table>\n",
       "</div>"
      ],
      "text/plain": [
       "      retailer  retailer_id invoice_date     region     state      city  \\\n",
       "0  Foot Locker      1185732   2020-01-01  Northeast  New York  New York   \n",
       "1  Foot Locker      1185732   2020-01-02  Northeast  New York  New York   \n",
       "\n",
       "                   product  price_per_unit  units_sold  total_sales  \\\n",
       "0    Men's Street Footwear              50        1200       600000   \n",
       "1  Men's Athletic Footwear              50        1000       500000   \n",
       "\n",
       "   operating_profit  operating_margin sales_method  year  month monthname  \\\n",
       "0          300000.0               0.5     In-store  2020      1       Jan   \n",
       "1          150000.0               0.3     In-store  2020      1       Jan   \n",
       "\n",
       "        days  \n",
       "0  Wednesday  \n",
       "1   Thursday  "
      ]
     },
     "execution_count": 14,
     "metadata": {},
     "output_type": "execute_result"
    }
   ],
   "source": [
    "pg_df.head(2)"
   ]
  },
  {
   "cell_type": "markdown",
   "id": "1e784537-76cc-41c8-86fa-04b9f8e8b9fb",
   "metadata": {},
   "source": [
    "#### converting YEAR AND MONTH TO INTEGERS SINCE THEY ARE IN DATETIME FORMAT\n"
   ]
  },
  {
   "cell_type": "code",
   "execution_count": 15,
   "id": "8f55d311-8c89-407f-be1f-fe110fc6e201",
   "metadata": {},
   "outputs": [],
   "source": [
    "pg_df['year'] = pg_df['year'].astype(int)\n",
    "pg_df['month'] = pg_df['month'].astype(int)\n"
   ]
  },
  {
   "cell_type": "code",
   "execution_count": 14,
   "id": "41fcce8d-abe8-4aae-8c04-eb5899d17828",
   "metadata": {},
   "outputs": [
    {
     "name": "stdout",
     "output_type": "stream",
     "text": [
      "<class 'pandas.core.frame.DataFrame'>\n",
      "RangeIndex: 9648 entries, 0 to 9647\n",
      "Data columns (total 17 columns):\n",
      " #   Column            Non-Null Count  Dtype         \n",
      "---  ------            --------------  -----         \n",
      " 0   retailer          9648 non-null   object        \n",
      " 1   retailer_id       9648 non-null   int64         \n",
      " 2   invoice_date      9648 non-null   datetime64[ns]\n",
      " 3   region            9648 non-null   object        \n",
      " 4   state             9648 non-null   object        \n",
      " 5   city              9648 non-null   object        \n",
      " 6   product           9648 non-null   object        \n",
      " 7   price_per_unit    9648 non-null   int64         \n",
      " 8   units_sold        9648 non-null   int64         \n",
      " 9   total_sales       9648 non-null   int64         \n",
      " 10  operating_profit  9648 non-null   float64       \n",
      " 11  operating_margin  9648 non-null   float64       \n",
      " 12  sales_method      9648 non-null   object        \n",
      " 13  year              9648 non-null   int32         \n",
      " 14  month             9648 non-null   int32         \n",
      " 15  monthname         9648 non-null   object        \n",
      " 16  days              9648 non-null   object        \n",
      "dtypes: datetime64[ns](1), float64(2), int32(2), int64(4), object(8)\n",
      "memory usage: 1.2+ MB\n"
     ]
    }
   ],
   "source": [
    "pg_df.info()"
   ]
  },
  {
   "cell_type": "markdown",
   "id": "ff80a4bd-cce7-4a50-8888-f4114c4f7413",
   "metadata": {},
   "source": [
    "#### DROPING RETAILER_ID,INVOICE_DATE,MONTH COLUMNS"
   ]
  },
  {
   "cell_type": "markdown",
   "id": "2f259ac8-2f6b-42a4-baac-8522396c6ab0",
   "metadata": {},
   "source": [
    "#### CLEANING DATA"
   ]
  },
  {
   "cell_type": "code",
   "execution_count": 16,
   "id": "1082a1a0-a9fb-482a-96a8-075534e1951c",
   "metadata": {},
   "outputs": [],
   "source": [
    "pg_df.drop(columns = ['invoice_date'],axis=1, inplace = True)\n",
    "pg_df.drop(columns = ['retailer_id'],axis=1, inplace = True)\n",
    "pg_df.drop(columns = ['month'],axis=1, inplace = True)\n",
    "\n"
   ]
  },
  {
   "cell_type": "code",
   "execution_count": 17,
   "id": "a0c0da2d-7133-4bcd-993b-d230adbc7ab3",
   "metadata": {},
   "outputs": [
    {
     "data": {
      "text/html": [
       "<div>\n",
       "<style scoped>\n",
       "    .dataframe tbody tr th:only-of-type {\n",
       "        vertical-align: middle;\n",
       "    }\n",
       "\n",
       "    .dataframe tbody tr th {\n",
       "        vertical-align: top;\n",
       "    }\n",
       "\n",
       "    .dataframe thead th {\n",
       "        text-align: right;\n",
       "    }\n",
       "</style>\n",
       "<table border=\"1\" class=\"dataframe\">\n",
       "  <thead>\n",
       "    <tr style=\"text-align: right;\">\n",
       "      <th></th>\n",
       "      <th>retailer</th>\n",
       "      <th>region</th>\n",
       "      <th>state</th>\n",
       "      <th>city</th>\n",
       "      <th>product</th>\n",
       "      <th>price_per_unit</th>\n",
       "      <th>units_sold</th>\n",
       "      <th>total_sales</th>\n",
       "      <th>operating_profit</th>\n",
       "      <th>operating_margin</th>\n",
       "      <th>sales_method</th>\n",
       "      <th>year</th>\n",
       "      <th>monthname</th>\n",
       "      <th>days</th>\n",
       "    </tr>\n",
       "  </thead>\n",
       "  <tbody>\n",
       "    <tr>\n",
       "      <th>0</th>\n",
       "      <td>Foot Locker</td>\n",
       "      <td>Northeast</td>\n",
       "      <td>New York</td>\n",
       "      <td>New York</td>\n",
       "      <td>Men's Street Footwear</td>\n",
       "      <td>50</td>\n",
       "      <td>1200</td>\n",
       "      <td>600000</td>\n",
       "      <td>300000.0</td>\n",
       "      <td>0.50</td>\n",
       "      <td>In-store</td>\n",
       "      <td>2020</td>\n",
       "      <td>Jan</td>\n",
       "      <td>Wednesday</td>\n",
       "    </tr>\n",
       "    <tr>\n",
       "      <th>1</th>\n",
       "      <td>Foot Locker</td>\n",
       "      <td>Northeast</td>\n",
       "      <td>New York</td>\n",
       "      <td>New York</td>\n",
       "      <td>Men's Athletic Footwear</td>\n",
       "      <td>50</td>\n",
       "      <td>1000</td>\n",
       "      <td>500000</td>\n",
       "      <td>150000.0</td>\n",
       "      <td>0.30</td>\n",
       "      <td>In-store</td>\n",
       "      <td>2020</td>\n",
       "      <td>Jan</td>\n",
       "      <td>Thursday</td>\n",
       "    </tr>\n",
       "    <tr>\n",
       "      <th>2</th>\n",
       "      <td>Foot Locker</td>\n",
       "      <td>Northeast</td>\n",
       "      <td>New York</td>\n",
       "      <td>New York</td>\n",
       "      <td>Women's Street Footwear</td>\n",
       "      <td>40</td>\n",
       "      <td>1000</td>\n",
       "      <td>400000</td>\n",
       "      <td>140000.0</td>\n",
       "      <td>0.35</td>\n",
       "      <td>In-store</td>\n",
       "      <td>2020</td>\n",
       "      <td>Jan</td>\n",
       "      <td>Friday</td>\n",
       "    </tr>\n",
       "  </tbody>\n",
       "</table>\n",
       "</div>"
      ],
      "text/plain": [
       "      retailer     region     state      city                  product  \\\n",
       "0  Foot Locker  Northeast  New York  New York    Men's Street Footwear   \n",
       "1  Foot Locker  Northeast  New York  New York  Men's Athletic Footwear   \n",
       "2  Foot Locker  Northeast  New York  New York  Women's Street Footwear   \n",
       "\n",
       "   price_per_unit  units_sold  total_sales  operating_profit  \\\n",
       "0              50        1200       600000          300000.0   \n",
       "1              50        1000       500000          150000.0   \n",
       "2              40        1000       400000          140000.0   \n",
       "\n",
       "   operating_margin sales_method  year monthname       days  \n",
       "0              0.50     In-store  2020       Jan  Wednesday  \n",
       "1              0.30     In-store  2020       Jan   Thursday  \n",
       "2              0.35     In-store  2020       Jan     Friday  "
      ]
     },
     "execution_count": 17,
     "metadata": {},
     "output_type": "execute_result"
    }
   ],
   "source": [
    "pg_df.head(3)"
   ]
  },
  {
   "cell_type": "code",
   "execution_count": 18,
   "id": "7b7d757c-6dcf-46df-b9aa-b013c7a246e9",
   "metadata": {},
   "outputs": [
    {
     "data": {
      "text/plain": [
       "(9648, 14)"
      ]
     },
     "execution_count": 18,
     "metadata": {},
     "output_type": "execute_result"
    }
   ],
   "source": [
    "pg_df.shape"
   ]
  },
  {
   "cell_type": "code",
   "execution_count": 19,
   "id": "248ea637-bf7a-47c6-9995-00fc72fed89f",
   "metadata": {},
   "outputs": [
    {
     "data": {
      "text/html": [
       "<div>\n",
       "<style scoped>\n",
       "    .dataframe tbody tr th:only-of-type {\n",
       "        vertical-align: middle;\n",
       "    }\n",
       "\n",
       "    .dataframe tbody tr th {\n",
       "        vertical-align: top;\n",
       "    }\n",
       "\n",
       "    .dataframe thead th {\n",
       "        text-align: right;\n",
       "    }\n",
       "</style>\n",
       "<table border=\"1\" class=\"dataframe\">\n",
       "  <thead>\n",
       "    <tr style=\"text-align: right;\">\n",
       "      <th></th>\n",
       "      <th>price_per_unit</th>\n",
       "      <th>units_sold</th>\n",
       "      <th>total_sales</th>\n",
       "      <th>operating_profit</th>\n",
       "      <th>operating_margin</th>\n",
       "      <th>year</th>\n",
       "    </tr>\n",
       "  </thead>\n",
       "  <tbody>\n",
       "    <tr>\n",
       "      <th>count</th>\n",
       "      <td>9648.000000</td>\n",
       "      <td>9648.000000</td>\n",
       "      <td>9648.000000</td>\n",
       "      <td>9648.000000</td>\n",
       "      <td>9648.000000</td>\n",
       "      <td>9648.000000</td>\n",
       "    </tr>\n",
       "    <tr>\n",
       "      <th>mean</th>\n",
       "      <td>45.216625</td>\n",
       "      <td>256.930037</td>\n",
       "      <td>93273.437500</td>\n",
       "      <td>34425.244761</td>\n",
       "      <td>0.422991</td>\n",
       "      <td>2020.865050</td>\n",
       "    </tr>\n",
       "    <tr>\n",
       "      <th>std</th>\n",
       "      <td>14.705397</td>\n",
       "      <td>214.252030</td>\n",
       "      <td>141916.016727</td>\n",
       "      <td>54193.113713</td>\n",
       "      <td>0.097197</td>\n",
       "      <td>0.341688</td>\n",
       "    </tr>\n",
       "    <tr>\n",
       "      <th>min</th>\n",
       "      <td>7.000000</td>\n",
       "      <td>0.000000</td>\n",
       "      <td>0.000000</td>\n",
       "      <td>0.000000</td>\n",
       "      <td>0.100000</td>\n",
       "      <td>2020.000000</td>\n",
       "    </tr>\n",
       "    <tr>\n",
       "      <th>25%</th>\n",
       "      <td>35.000000</td>\n",
       "      <td>106.000000</td>\n",
       "      <td>4254.500000</td>\n",
       "      <td>1921.752500</td>\n",
       "      <td>0.350000</td>\n",
       "      <td>2021.000000</td>\n",
       "    </tr>\n",
       "    <tr>\n",
       "      <th>50%</th>\n",
       "      <td>45.000000</td>\n",
       "      <td>176.000000</td>\n",
       "      <td>9576.000000</td>\n",
       "      <td>4371.420000</td>\n",
       "      <td>0.410000</td>\n",
       "      <td>2021.000000</td>\n",
       "    </tr>\n",
       "    <tr>\n",
       "      <th>75%</th>\n",
       "      <td>55.000000</td>\n",
       "      <td>350.000000</td>\n",
       "      <td>150000.000000</td>\n",
       "      <td>52062.500000</td>\n",
       "      <td>0.490000</td>\n",
       "      <td>2021.000000</td>\n",
       "    </tr>\n",
       "    <tr>\n",
       "      <th>max</th>\n",
       "      <td>110.000000</td>\n",
       "      <td>1275.000000</td>\n",
       "      <td>825000.000000</td>\n",
       "      <td>390000.000000</td>\n",
       "      <td>0.800000</td>\n",
       "      <td>2021.000000</td>\n",
       "    </tr>\n",
       "  </tbody>\n",
       "</table>\n",
       "</div>"
      ],
      "text/plain": [
       "       price_per_unit   units_sold    total_sales  operating_profit  \\\n",
       "count     9648.000000  9648.000000    9648.000000       9648.000000   \n",
       "mean        45.216625   256.930037   93273.437500      34425.244761   \n",
       "std         14.705397   214.252030  141916.016727      54193.113713   \n",
       "min          7.000000     0.000000       0.000000          0.000000   \n",
       "25%         35.000000   106.000000    4254.500000       1921.752500   \n",
       "50%         45.000000   176.000000    9576.000000       4371.420000   \n",
       "75%         55.000000   350.000000  150000.000000      52062.500000   \n",
       "max        110.000000  1275.000000  825000.000000     390000.000000   \n",
       "\n",
       "       operating_margin         year  \n",
       "count       9648.000000  9648.000000  \n",
       "mean           0.422991  2020.865050  \n",
       "std            0.097197     0.341688  \n",
       "min            0.100000  2020.000000  \n",
       "25%            0.350000  2021.000000  \n",
       "50%            0.410000  2021.000000  \n",
       "75%            0.490000  2021.000000  \n",
       "max            0.800000  2021.000000  "
      ]
     },
     "execution_count": 19,
     "metadata": {},
     "output_type": "execute_result"
    }
   ],
   "source": [
    "pg_df.describe()"
   ]
  },
  {
   "cell_type": "markdown",
   "id": "4ad3394e-3d53-4d97-8f5c-6718fe7096da",
   "metadata": {},
   "source": [
    "#### DESCRIPTIVE ANALYSIS"
   ]
  },
  {
   "cell_type": "code",
   "execution_count": 56,
   "id": "11040787-64c3-403f-9bce-470f6e5c3d66",
   "metadata": {},
   "outputs": [],
   "source": [
    "month_order =['Jan','Feb','Mar','Apr','May','Jun','Jul','Aug','Sep','Oct','Nov','Dec']"
   ]
  },
  {
   "cell_type": "code",
   "execution_count": 71,
   "id": "58e2eed9-b534-4a51-a9f6-ce89fba7d30b",
   "metadata": {},
   "outputs": [],
   "source": [
    "days_order =['Sunday','Monday','Tuesday','Wednesday','Thursday','Friday','Saturday']"
   ]
  },
  {
   "cell_type": "code",
   "execution_count": null,
   "id": "0cf5ee0c-6c8c-4ae3-b429-dee1dfb80a4e",
   "metadata": {},
   "outputs": [],
   "source": [
    "sales"
   ]
  },
  {
   "cell_type": "code",
   "execution_count": 18,
   "id": "6aad625f-81b2-459d-bc54-83b6fa074063",
   "metadata": {},
   "outputs": [
    {
     "name": "stdout",
     "output_type": "stream",
     "text": [
      "year\n",
      "2021    717821450\n",
      "2020    182080675\n",
      "Name: total_sales, dtype: int64\n"
     ]
    }
   ],
   "source": [
    "# TOTAL SALE BY YEAR.\n",
    "SALES_BY_YEAR = pg_df.groupby('year')['total_sales'].sum()\n",
    "print(SALES_BY_YEAR.sort_values(ascending=False))"
   ]
  },
  {
   "cell_type": "code",
   "execution_count": 19,
   "id": "3887bbbd-ff7d-4d93-9f7c-f9f67c46bcb6",
   "metadata": {},
   "outputs": [
    {
     "name": "stdout",
     "output_type": "stream",
     "text": [
      "retailer\n",
      "West Gear        242964333\n",
      "Foot Locker      220094720\n",
      "Sports Direct    182470997\n",
      "Kohl's           102114753\n",
      "Amazon            77698912\n",
      "Walmart           74558410\n",
      "Name: total_sales, dtype: int64\n"
     ]
    }
   ],
   "source": [
    "# TOTAL SALE BY RETAILERS.\n",
    "SALES_BY_RETAILER = pg_df.groupby('retailer')['total_sales'].sum()\n",
    "print(SALES_BY_RETAILER.sort_values(ascending=False))"
   ]
  },
  {
   "cell_type": "code",
   "execution_count": 20,
   "id": "1db674b7-79ed-453a-92ac-f44801c8258a",
   "metadata": {},
   "outputs": [
    {
     "name": "stdout",
     "output_type": "stream",
     "text": [
      "region\n",
      "West         269943182\n",
      "Northeast    186324067\n",
      "Southeast    163171236\n",
      "South        144663181\n",
      "Midwest      135800459\n",
      "Name: total_sales, dtype: int64\n"
     ]
    }
   ],
   "source": [
    "# TOTAL SALE BY REGION\n",
    "SALES_BY_REGION = pg_df.groupby('region')['total_sales'].sum()\n",
    "print(SALES_BY_REGION.sort_values(ascending=False))\n"
   ]
  },
  {
   "cell_type": "code",
   "execution_count": 21,
   "id": "542dff14-7fac-4f66-af70-7e1c910587fb",
   "metadata": {},
   "outputs": [
    {
     "name": "stdout",
     "output_type": "stream",
     "text": [
      "state\n",
      "New York          64229039\n",
      "California        60174133\n",
      "Florida           59283714\n",
      "Texas             46359746\n",
      "South Carolina    29285637\n",
      "Washington        26330718\n",
      "North Carolina    23956531\n",
      "Louisiana         23750781\n",
      "Hawaii            22282457\n",
      "Virginia          21575040\n",
      "Oregon            21349674\n",
      "Colorado          20996536\n",
      "Nevada            20858509\n",
      "New Mexico        19865016\n",
      "Idaho             19276878\n",
      "Georgia           18997466\n",
      "Michigan          18625433\n",
      "Wyoming           18577517\n",
      "Ohio              18484583\n",
      "Tennessee         18067440\n",
      "Alabama           17633424\n",
      "New Hampshire     16411667\n",
      "Arizona           15782221\n",
      "Montana           15710886\n",
      "Mississippi       15591709\n",
      "Alaska            14753103\n",
      "Vermont           14352923\n",
      "Arkansas          12639347\n",
      "Delaware          12298412\n",
      "Connecticut       11573448\n",
      "Massachusetts     11076810\n",
      "West Virginia     10689160\n",
      "Oklahoma          10620734\n",
      "Pennsylvania      10357519\n",
      "Kentucky          10072848\n",
      "Kansas             9972864\n",
      "New Jersey         9934246\n",
      "Illinois           9797488\n",
      "Utah               9696420\n",
      "Missouri           9683265\n",
      "Maine              9195978\n",
      "Indiana            8836198\n",
      "South Dakota       8495576\n",
      "Rhode Island       8446806\n",
      "Maryland           7758059\n",
      "North Dakota       7735580\n",
      "Wisconsin          7727469\n",
      "Iowa               7424011\n",
      "Minnesota          7378068\n",
      "Nebraska           5929038\n",
      "Name: total_sales, dtype: int64\n"
     ]
    }
   ],
   "source": [
    "# TOTAL SALE BY STATE\n",
    "SALES_BY_STATE = pg_df.groupby('state')['total_sales'].sum()\n",
    "print(SALES_BY_STATE.sort_values(ascending=False))\n"
   ]
  },
  {
   "cell_type": "code",
   "execution_count": 22,
   "id": "e299819c-3c8b-41d9-972d-012e8d98b62e",
   "metadata": {},
   "outputs": [
    {
     "name": "stdout",
     "output_type": "stream",
     "text": [
      "city\n",
      "Charleston        39974797\n",
      "New York          39801235\n",
      "San Francisco     34539220\n",
      "Miami             31600863\n",
      "Portland          30545652\n",
      "Orlando           27682851\n",
      "Seattle           26330718\n",
      "Los Angeles       25634913\n",
      "Houston           25456882\n",
      "Albany            24427804\n",
      "Charlotte         23956531\n",
      "New Orleans       23750781\n",
      "Honolulu          22282457\n",
      "Richmond          21575040\n",
      "Denver            20996536\n",
      "Dallas            20902864\n",
      "Las Vegas         20858509\n",
      "Albuquerque       19865016\n",
      "Boise             19276878\n",
      "Atlanta           18997466\n",
      "Detroit           18625433\n",
      "Cheyenne          18577517\n",
      "Columbus          18484583\n",
      "Knoxville         18067440\n",
      "Birmingham        17633424\n",
      "Manchester        16411667\n",
      "Phoenix           15782221\n",
      "Billings          15710886\n",
      "Jackson           15591709\n",
      "Anchorage         14753103\n",
      "Burlington        14352923\n",
      "Little Rock       12639347\n",
      "Wilmington        12298412\n",
      "Hartford          11573448\n",
      "Boston            11076810\n",
      "Oklahoma City     10620734\n",
      "Philadelphia      10357519\n",
      "Louisville        10072848\n",
      "Wichita            9972864\n",
      "Newark             9934246\n",
      "Chicago            9797488\n",
      "Salt Lake City     9696420\n",
      "St. Louis          9683265\n",
      "Indianapolis       8836198\n",
      "Sioux Falls        8495576\n",
      "Providence         8446806\n",
      "Baltimore          7758059\n",
      "Fargo              7735580\n",
      "Milwaukee          7727469\n",
      "Des Moines         7424011\n",
      "Minneapolis        7378068\n",
      "Omaha              5929038\n",
      "Name: total_sales, dtype: int64\n"
     ]
    }
   ],
   "source": [
    "# TOTAL SALE BY CITY\n",
    "SALES_BY_CITY = pg_df.groupby('city')['total_sales'].sum()\n",
    "print(SALES_BY_CITY.sort_values(ascending=False))"
   ]
  },
  {
   "cell_type": "code",
   "execution_count": 23,
   "id": "380fc6a2-10c6-4658-b3bc-7ede03460569",
   "metadata": {},
   "outputs": [
    {
     "name": "stdout",
     "output_type": "stream",
     "text": [
      "product\n",
      "Men's Street Footwear        208826244\n",
      "Women's Apparel              179038860\n",
      "Men's Athletic Footwear      153673680\n",
      "Women's Street Footwear      128002813\n",
      "Men's Apparel                123728632\n",
      "Women's Athletic Footwear    106631896\n",
      "Name: total_sales, dtype: int64\n"
     ]
    }
   ],
   "source": [
    "# TOTAL SALE BY PRODUCTS\n",
    "SALES_BY_PRODUCTS = pg_df.groupby('product')['total_sales'].sum()\n",
    "print(SALES_BY_PRODUCTS.sort_values(ascending=False))"
   ]
  },
  {
   "cell_type": "code",
   "execution_count": 24,
   "id": "9b3df177-aafd-48bc-bba7-58413bd23560",
   "metadata": {},
   "outputs": [
    {
     "name": "stdout",
     "output_type": "stream",
     "text": [
      "sales_method\n",
      "In-store    356643750\n",
      "Outlet      295585493\n",
      "Online      247672882\n",
      "Name: total_sales, dtype: int64\n"
     ]
    }
   ],
   "source": [
    "#TOTAL SALE BY METHOD\n",
    "\n",
    "SALES_BY_METHOD = pg_df.groupby('sales_method')['total_sales'].sum() \n",
    "print(SALES_BY_METHOD.sort_values(ascending=False))"
   ]
  },
  {
   "cell_type": "code",
   "execution_count": 42,
   "id": "ae62bec7-b795-4e93-90e8-0817cdf14b6f",
   "metadata": {},
   "outputs": [
    {
     "name": "stdout",
     "output_type": "stream",
     "text": [
      "monthname\n",
      "Jul    95480694\n",
      "Aug    92166201\n",
      "Dec    85841957\n",
      "May    80507695\n",
      "Sep    77661459\n",
      "Jun    74747372\n",
      "Apr    72339970\n",
      "Jan    71479142\n",
      "Nov    67857340\n",
      "Oct    63911033\n",
      "Feb    61100153\n",
      "Mar    56809109\n",
      "Name: total_sales, dtype: int64\n"
     ]
    }
   ],
   "source": [
    "# TOTAL SALE BY MONTHS\n",
    "SALES_BY_MONTHS = pg_df.groupby('monthname')['total_sales'].sum()\n",
    "print(SALES_BY_MONTHS.sort_values(ascending=False))\n",
    "\n"
   ]
  },
  {
   "cell_type": "code",
   "execution_count": 57,
   "id": "9fbb57db-81d3-4a45-b151-692414388a9c",
   "metadata": {},
   "outputs": [],
   "source": [
    "SALES_BY_MONTHS= SALES_BY_MONTHS.reindex(month_order)"
   ]
  },
  {
   "cell_type": "code",
   "execution_count": 58,
   "id": "a0fc4d3c-af37-4af2-8ff4-d5772036b359",
   "metadata": {},
   "outputs": [
    {
     "name": "stdout",
     "output_type": "stream",
     "text": [
      "monthname\n",
      "Jan    71479142\n",
      "Feb    61100153\n",
      "Mar    56809109\n",
      "Apr    72339970\n",
      "May    80507695\n",
      "Jun    74747372\n",
      "Jul    95480694\n",
      "Aug    92166201\n",
      "Sep    77661459\n",
      "Oct    63911033\n",
      "Nov    67857340\n",
      "Dec    85841957\n",
      "Name: total_sales, dtype: int64\n"
     ]
    }
   ],
   "source": [
    "print(SALES_BY_MONTHS)"
   ]
  },
  {
   "cell_type": "code",
   "execution_count": 73,
   "id": "ab98c4cf-2bc3-4389-9c1a-7a9637479960",
   "metadata": {},
   "outputs": [
    {
     "name": "stdout",
     "output_type": "stream",
     "text": [
      "days\n",
      "Friday       146683099\n",
      "Thursday     145683120\n",
      "Tuesday      137138087\n",
      "Wednesday    120114465\n",
      "Sunday       120017988\n",
      "Saturday     117929979\n",
      "Monday       112335387\n",
      "Name: total_sales, dtype: int64\n"
     ]
    }
   ],
   "source": [
    "# TOTAL SALE BY DAYS\n",
    "SALES_BY_DAYS = pg_df.groupby('days')['total_sales'].sum()\n",
    "print(SALES_BY_DAYS.sort_values(ascending=False))"
   ]
  },
  {
   "cell_type": "code",
   "execution_count": 75,
   "id": "14b71656-e31d-4b2e-9506-bcb2a94e8068",
   "metadata": {},
   "outputs": [],
   "source": [
    "SALES_BY_DAYS= SALES_BY_DAYS.reindex(days_order)"
   ]
  },
  {
   "cell_type": "code",
   "execution_count": 76,
   "id": "2ba2f835-d51a-4160-9b09-d718f58efed6",
   "metadata": {},
   "outputs": [
    {
     "name": "stdout",
     "output_type": "stream",
     "text": [
      "days\n",
      "Sunday       120017988\n",
      "Monday       112335387\n",
      "Tuesday      137138087\n",
      "Wednesday    120114465\n",
      "Thursday     145683120\n",
      "Friday       146683099\n",
      "Saturday     117929979\n",
      "Name: total_sales, dtype: int64\n"
     ]
    }
   ],
   "source": [
    "print(SALES_BY_DAYS)"
   ]
  },
  {
   "cell_type": "code",
   "execution_count": 44,
   "id": "0b724afe-9dd5-4bbc-917b-97b6d07b8c79",
   "metadata": {},
   "outputs": [
    {
     "name": "stdout",
     "output_type": "stream",
     "text": [
      "monthname\n",
      "Aug    34451440.30\n",
      "Jul    34054898.59\n",
      "Dec    31590202.03\n",
      "Sep    31009586.73\n",
      "May    29946255.33\n",
      "Apr    27559237.31\n",
      "Jun    26714715.92\n",
      "Jan    25141934.51\n",
      "Oct    25078444.60\n",
      "Nov    24755521.43\n",
      "Feb    21392736.70\n",
      "Mar    20439788.00\n",
      "Name: operating_profit, dtype: float64\n"
     ]
    }
   ],
   "source": [
    "# TOTAL profit BY MONTHS\n",
    "profit_BY_MONTHS = pg_df.groupby('monthname')['operating_profit'].sum()\n",
    "print(profit_BY_MONTHS.sort_values(ascending=False))"
   ]
  },
  {
   "cell_type": "code",
   "execution_count": 45,
   "id": "a26007c6-7047-4442-acd6-6b02de545c36",
   "metadata": {},
   "outputs": [
    {
     "name": "stdout",
     "output_type": "stream",
     "text": [
      "city\n",
      "Charleston        15607190.11\n",
      "New York          13899973.16\n",
      "Miami             12168619.11\n",
      "Portland          10760799.37\n",
      "San Francisco     10256249.56\n",
      "Houston            9845141.06\n",
      "Charlotte          9756422.87\n",
      "Albany             9429850.91\n",
      "New Orleans        9417233.49\n",
      "Birmingham         9147581.39\n",
      "Los Angeles        9044920.84\n",
      "Dallas             8843063.29\n",
      "Orlando            8757587.81\n",
      "Knoxville          8493660.06\n",
      "Detroit            8135894.02\n",
      "Boise              8121115.10\n",
      "Richmond           7719430.68\n",
      "Denver             7713555.83\n",
      "Columbus           7528840.09\n",
      "Las Vegas          7060651.92\n",
      "Seattle            6991403.13\n",
      "Atlanta            6893289.61\n",
      "Albuquerque        6738060.41\n",
      "Cheyenne           6544071.15\n",
      "Jackson            6369094.73\n",
      "Billings           6232037.55\n",
      "Honolulu           5849794.07\n",
      "Manchester         5786206.43\n",
      "Burlington         5785966.49\n",
      "Phoenix            5344664.58\n",
      "Little Rock        4915697.91\n",
      "Wilmington         4524350.06\n",
      "Anchorage          4498345.86\n",
      "Philadelphia       4156739.25\n",
      "Hartford           4152320.79\n",
      "Oklahoma City      4106532.14\n",
      "Louisville         3935830.23\n",
      "Chicago            3920368.61\n",
      "St. Louis          3907209.36\n",
      "Salt Lake City     3873429.10\n",
      "Newark             3657237.22\n",
      "Wichita            3510147.29\n",
      "Indianapolis       3379256.00\n",
      "Boston             3353875.87\n",
      "Providence         3045817.26\n",
      "Sioux Falls        2943318.21\n",
      "Milwaukee          2800830.09\n",
      "Baltimore          2757642.12\n",
      "Fargo              2688519.72\n",
      "Minneapolis        2670229.76\n",
      "Des Moines         2655217.37\n",
      "Omaha              2439478.41\n",
      "Name: operating_profit, dtype: float64\n"
     ]
    }
   ],
   "source": [
    "# TOTAL profit BY CITY\n",
    "profit_BY_CITY = pg_df.groupby('city')['operating_profit'].sum()\n",
    "print(profit_BY_CITY.sort_values(ascending=False))"
   ]
  },
  {
   "cell_type": "code",
   "execution_count": 48,
   "id": "d634bf73-d8be-4cdc-b264-47bc28c3c0cf",
   "metadata": {},
   "outputs": [
    {
     "name": "stdout",
     "output_type": "stream",
     "text": [
      "state\n",
      "New York          23329824.07\n",
      "Florida           20926206.92\n",
      "California        19301170.40\n",
      "Texas             18688204.35\n",
      "South Carolina    11324236.39\n",
      "North Carolina     9756422.87\n",
      "Louisiana          9417233.49\n",
      "Alabama            9147581.39\n",
      "Tennessee          8493660.06\n",
      "Michigan           8135894.02\n",
      "Idaho              8121115.10\n",
      "Virginia           7719430.68\n",
      "Colorado           7713555.83\n",
      "Oregon             7573145.00\n",
      "Ohio               7528840.09\n",
      "Nevada             7060651.92\n",
      "Washington         6991403.13\n",
      "Georgia            6893289.61\n",
      "New Mexico         6738060.41\n",
      "Wyoming            6544071.15\n",
      "Mississippi        6369094.73\n",
      "Montana            6232037.55\n",
      "Hawaii             5849794.07\n",
      "New Hampshire      5786206.43\n",
      "Vermont            5785966.49\n",
      "Arizona            5344664.58\n",
      "Arkansas           4915697.91\n",
      "Delaware           4524350.06\n",
      "Alaska             4498345.86\n",
      "West Virginia      4282953.72\n",
      "Pennsylvania       4156739.25\n",
      "Connecticut        4152320.79\n",
      "Oklahoma           4106532.14\n",
      "Kentucky           3935830.23\n",
      "Illinois           3920368.61\n",
      "Missouri           3907209.36\n",
      "Utah               3873429.10\n",
      "New Jersey         3657237.22\n",
      "Kansas             3510147.29\n",
      "Indiana            3379256.00\n",
      "Massachusetts      3353875.87\n",
      "Maine              3187654.37\n",
      "Rhode Island       3045817.26\n",
      "South Dakota       2943318.21\n",
      "Wisconsin          2800830.09\n",
      "Maryland           2757642.12\n",
      "North Dakota       2688519.72\n",
      "Minnesota          2670229.76\n",
      "Iowa               2655217.37\n",
      "Nebraska           2439478.41\n",
      "Name: operating_profit, dtype: float64\n"
     ]
    }
   ],
   "source": [
    "# TOTAL profit BY STATE\n",
    "profit_BY_STATE = pg_df.groupby('state')['operating_profit'].sum()\n",
    "print(profit_BY_STATE.sort_values(ascending=False))"
   ]
  },
  {
   "cell_type": "code",
   "execution_count": 65,
   "id": "784d04c0-06c1-4b45-a7c4-f1b4532ffbf0",
   "metadata": {},
   "outputs": [
    {
     "name": "stdout",
     "output_type": "stream",
     "text": [
      "year\n",
      "2021    2.687591e+08\n",
      "2020    6.337566e+07\n",
      "Name: operating_profit, dtype: float64\n"
     ]
    }
   ],
   "source": [
    "# TOTAL profit BY YEAR\n",
    "profit_BY_YEAR = pg_df.groupby('year')['operating_profit'].sum()\n",
    "\n",
    "print(profit_BY_YEAR.sort_values(ascending=False))"
   ]
  },
  {
   "cell_type": "code",
   "execution_count": 50,
   "id": "1e169660-6d12-46c4-84e1-54ccfa6a500b",
   "metadata": {},
   "outputs": [
    {
     "name": "stdout",
     "output_type": "stream",
     "text": [
      "region\n",
      "West         89609406.55\n",
      "Northeast    68020587.65\n",
      "South        61138004.07\n",
      "Southeast    60555416.70\n",
      "Midwest      52811346.48\n",
      "Name: operating_profit, dtype: float64\n"
     ]
    }
   ],
   "source": [
    "# TOTAL profit BY REGION\n",
    "profit_BY_REGION = pg_df.groupby('region')['operating_profit'].sum()\n",
    "print(profit_BY_REGION.sort_values(ascending=False))"
   ]
  },
  {
   "cell_type": "code",
   "execution_count": 51,
   "id": "5b61d794-9798-4d1a-8737-98557df9dcfc",
   "metadata": {},
   "outputs": [
    {
     "name": "stdout",
     "output_type": "stream",
     "text": [
      "retailer\n",
      "West Gear        85667873.18\n",
      "Foot Locker      80722124.81\n",
      "Sports Direct    74332954.96\n",
      "Kohl's           36811252.58\n",
      "Amazon           28818503.31\n",
      "Walmart          25782052.61\n",
      "Name: operating_profit, dtype: float64\n"
     ]
    }
   ],
   "source": [
    "# TOTAL profit BY RETAILERS\n",
    "profit_BY_RETAILER = pg_df.groupby('retailer')['operating_profit'].sum()\n",
    "print(profit_BY_RETAILER.sort_values(ascending=False))"
   ]
  },
  {
   "cell_type": "code",
   "execution_count": 52,
   "id": "4a92af72-a4dc-4d6a-b4e5-740d7d20f438",
   "metadata": {},
   "outputs": [
    {
     "name": "stdout",
     "output_type": "stream",
     "text": [
      "product\n",
      "Men's Street Footwear        82802260.62\n",
      "Women's Apparel              68650970.56\n",
      "Men's Athletic Footwear      51846888.19\n",
      "Women's Street Footwear      45095826.81\n",
      "Men's Apparel                44763030.33\n",
      "Women's Athletic Footwear    38975784.94\n",
      "Name: operating_profit, dtype: float64\n"
     ]
    }
   ],
   "source": [
    "# TOTAL profit BY PRODUCTS\n",
    "profit_BY_PRODUCT = pg_df.groupby('product')['operating_profit'].sum()\n",
    "print(profit_BY_PRODUCT.sort_values(ascending=False))"
   ]
  },
  {
   "cell_type": "markdown",
   "id": "75cb7927-1034-4b97-a346-369db8a03122",
   "metadata": {},
   "source": [
    "#### PERFORMING SOME KPI'S ON THE DATASET"
   ]
  },
  {
   "cell_type": "code",
   "execution_count": 53,
   "id": "a3b86211-315f-4f3a-9b0d-bb136773014e",
   "metadata": {},
   "outputs": [
    {
     "name": "stdout",
     "output_type": "stream",
     "text": [
      "899902125\n"
     ]
    }
   ],
   "source": [
    "# TOTAL_SALE.\n",
    "TOTAL_SALES= pg_df['total_sales'].sum()\n",
    "print(TOTAL_SALES)"
   ]
  },
  {
   "cell_type": "code",
   "execution_count": 54,
   "id": "06d96903-568a-49a2-a385-a88698f08b4f",
   "metadata": {},
   "outputs": [
    {
     "name": "stdout",
     "output_type": "stream",
     "text": [
      "2478861\n"
     ]
    }
   ],
   "source": [
    "# TOTAL_UNITS SOLD.\n",
    "UNITS_SOLD = pg_df['units_sold'].sum()\n",
    "print(UNITS_SOLD)"
   ]
  },
  {
   "cell_type": "code",
   "execution_count": 55,
   "id": "1bc0a54c-03bb-4916-bfd9-8fade90bf2b0",
   "metadata": {},
   "outputs": [
    {
     "name": "stdout",
     "output_type": "stream",
     "text": [
      "332134761.45000005\n"
     ]
    }
   ],
   "source": [
    "# TOTAL PROFIT GAIN\n",
    "PROFIT_GAIN = pg_df['operating_profit'].sum()\n",
    "print(PROFIT_GAIN)"
   ]
  },
  {
   "cell_type": "markdown",
   "id": "220d5fa6-edc6-42ec-98d8-3e5b7c5594dd",
   "metadata": {},
   "source": [
    "#### VISUALIZATION to gain insights"
   ]
  },
  {
   "cell_type": "code",
   "execution_count": 106,
   "id": "9ccfeae3-b541-4f7c-b9f2-d1c75ea99e86",
   "metadata": {},
   "outputs": [
    {
     "data": {
      "image/png": "[encoded data removed]",
      "text/plain": [
       "<Figure size 600x300 with 1 Axes>"
      ]
     },
     "metadata": {},
     "output_type": "display_data"
    }
   ],
   "source": [
    "# SALES OVER TIME\n",
    "plt.figure(figsize=(6,3))\n",
    "SALES_BY_YEAR.plot(kind = 'bar',color='indigo')\n",
    "plt.title('TOTAL SALES BY YEAR')\n",
    "plt.xlabel('year')\n",
    "plt.ylabel('total_sales')\n",
    "plt.show()"
   ]
  },
  {
   "cell_type": "code",
   "execution_count": 105,
   "id": "4dfa72a1-9a17-4658-b986-29b5c0eddc8f",
   "metadata": {},
   "outputs": [
    {
     "data": {
      "image/png": "[encoded data removed]",
      "text/plain": [
       "<Figure size 600x300 with 1 Axes>"
      ]
     },
     "metadata": {},
     "output_type": "display_data"
    }
   ],
   "source": [
    "# SALES OVER RETAILERS\n",
    "plt.figure(figsize=(6,3))\n",
    "SALES_BY_RETAILER.plot(kind = 'bar',color='indigo')\n",
    "plt.title('TOTAL SALES BY RETAILER')\n",
    "plt.xlabel('retailer')\n",
    "plt.ylabel('total_sales')\n",
    "plt.show()"
   ]
  },
  {
   "cell_type": "markdown",
   "id": "b82d4c0d-e1b8-4fd9-b0b3-98d8d1f8000c",
   "metadata": {},
   "source": [
    "### insight\n",
    "- the total number of sales made in year 2021 is more than year 2021."
   ]
  },
  {
   "cell_type": "code",
   "execution_count": 91,
   "id": "bc9bd04c-4bc9-44b6-8786-d0f930efa6ee",
   "metadata": {},
   "outputs": [
    {
     "data": {
      "image/png": "[encoded data removed]",
      "text/plain": [
       "<Figure size 600x300 with 1 Axes>"
      ]
     },
     "metadata": {},
     "output_type": "display_data"
    }
   ],
   "source": [
    "# SALES BY REGION\n",
    "plt.figure(figsize=(6,3))\n",
    "SALES_BY_REGION.plot(kind = 'bar',color= 'indigo')\n",
    "plt.title('TOTAL SALES BY REGION')\n",
    "plt.xlabel('region')\n",
    "plt.ylabel('total_sales')\n",
    "plt.show()"
   ]
  },
  {
   "cell_type": "code",
   "execution_count": 92,
   "id": "97aaea2f-6d50-4254-bd8e-0bf0863b9fca",
   "metadata": {},
   "outputs": [
    {
     "data": {
      "image/png": "[encoded data removed]",
      "text/plain": [
       "<Figure size 600x300 with 1 Axes>"
      ]
     },
     "metadata": {},
     "output_type": "display_data"
    }
   ],
   "source": [
    "# TOTAL SALES BY PRODUCT\n",
    "plt.figure(figsize=(6,3))\n",
    "SALES_BY_PRODUCTS.plot(kind = 'bar',color='indigo')\n",
    "plt.title('TOTAL SALES BY PRODUCTS')\n",
    "plt.xlabel('product')\n",
    "plt.ylabel('total_sales')\n",
    "plt.show()"
   ]
  },
  {
   "cell_type": "code",
   "execution_count": 90,
   "id": "95b5cb9a-c781-4f50-9a7d-721cb107129c",
   "metadata": {},
   "outputs": [
    {
     "data": {
      "image/png": "[encoded data removed]",
      "text/plain": [
       "<Figure size 600x300 with 1 Axes>"
      ]
     },
     "metadata": {},
     "output_type": "display_data"
    }
   ],
   "source": [
    "# TOTAL_SALE BY METHODS\n",
    "plt.figure(figsize=(6,3))\n",
    "SALES_BY_METHOD.plot(kind = 'bar',color='indigo')\n",
    "plt.title('TOTAL SALES BY METHODS')\n",
    "plt.xlabel('SALES_BY_METHOD')\n",
    "plt.ylabel('total_sales')\n",
    "plt.show()"
   ]
  },
  {
   "cell_type": "code",
   "execution_count": 109,
   "id": "91863254-0a14-4219-8059-53770cedf969",
   "metadata": {},
   "outputs": [
    {
     "data": {
      "image/png": "[encoded data removed]",
      "text/plain": [
       "<Figure size 800x300 with 1 Axes>"
      ]
     },
     "metadata": {},
     "output_type": "display_data"
    }
   ],
   "source": [
    "# TOTAL SALES BY MONTHS\n",
    "plt.figure(figsize=(8,3))\n",
    "SALES_BY_MONTHS.plot(kind = 'line',marker='o',color='black')\n",
    "plt.title('TOTAL SALES BY MONTHS')\n",
    "plt.xlabel('monthname')\n",
    "plt.ylabel('total_sales')\n",
    "plt.xticks(np.arange(len(month_order)),month_order)\n",
    "plt.show()"
   ]
  },
  {
   "cell_type": "code",
   "execution_count": 111,
   "id": "817d3c6a-978f-4ef7-804d-99840b7d26ef",
   "metadata": {},
   "outputs": [
    {
     "data": {
      "image/png": "[encoded data removed]",
      "text/plain": [
       "<Figure size 600x300 with 1 Axes>"
      ]
     },
     "metadata": {},
     "output_type": "display_data"
    }
   ],
   "source": [
    "# TOTAL SALES BY DAYS \n",
    "plt.figure(figsize=(6,3))\n",
    "SALES_BY_DAYS.plot(kind = 'line',marker ='o',color='black')\n",
    "plt.title('TOTAL SALES BY DAYS')\n",
    "plt.xlabel('days') \n",
    "plt.ylabel('total_sales')\n",
    "plt.xticks(np.arange(len(days_order)),days_order)\n",
    "plt.show()"
   ]
  },
  {
   "cell_type": "code",
   "execution_count": null,
   "id": "93549717-db73-4e2f-94c0-d2ed2374956d",
   "metadata": {},
   "outputs": [],
   "source": []
  }
 ],
 "metadata": {
  "kernelspec": {
   "display_name": "Python 3 (ipykernel)",
   "language": "python",
   "name": "python3"
  },
  "language_info": {
   "codemirror_mode": {
    "name": "ipython",
    "version": 3
   },
   "file_extension": ".py",
   "mimetype": "text/x-python",
   "name": "python",
   "nbconvert_exporter": "python",
   "pygments_lexer": "ipython3",
   "version": "3.11.7"
  }
 },
 "nbformat": 4,
 "nbformat_minor": 5
}
